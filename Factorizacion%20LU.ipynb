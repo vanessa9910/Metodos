{
 "cells": [
  {
   "cell_type": "code",
   "execution_count": 1,
   "metadata": {
    "collapsed": false
   },
   "outputs": [
    {
     "name": "stdout",
     "output_type": "stream",
     "text": [
      "[[2, 4, -1], [0.0, -1.0, -2.5], [0.0, 0.0, 21.5]]\n",
      "[[1, 0, 0], [0.5, 1, 0], [2.0, 7.0, 1]]\n",
      "[[-5], [-6.5], [64.5]]\n",
      "[[1.0], [-1.0], [3.0]]\n"
     ]
    }
   ],
   "source": [
    "# 2x1 + 4x2  - x3  = -5\n",
    "# x1 + x2 - 3x3 = -9\n",
    "# 4x1 + x2 + 2x3 = 9\n",
    "def createMatriz(m,n,v):\n",
    "    C = []\n",
    "    for i in range(m):\n",
    "        C.append([])\n",
    "        for j in range(n):\n",
    "            C[i].append(v)\n",
    "    return C\n",
    "\n",
    "U = createMatriz(3,3,0)\n",
    "U[0] = [2,4,-1]\n",
    "U[1] = [1,1,-3]\n",
    "U[2] = [4,1,2]\n",
    "\n",
    "L =  createMatriz(3,3,0)\n",
    "L[0] = [1,0,0]\n",
    "L[1] = [0,1,0]\n",
    "L[2] = [0,0,1]\n",
    "\n",
    "C = createMatriz(3,1,0)\n",
    "C[0] = [-5]\n",
    "C[1] = [-9]\n",
    "C[2] = [9]\n",
    "\n",
    "for i in range(3):\n",
    "    if U[i][i] == 0:\n",
    "        print(\"La Matriz no tiene LU\")\n",
    "        break\n",
    "    for j in range(i+1,3):\n",
    "        c = -1*U[j][i] / U[i][i]\n",
    "        L[j][i] = -1*c\n",
    "        for k in range(3):\n",
    "            U[j][k] += c*U[i][k]\n",
    "print(U)\n",
    "print(L)\n",
    "\n",
    "# LZ = C\n",
    "Z = createMatriz(3,1,0)\n",
    "for i in range(3):\n",
    "    Z[i][0] = C[i][0]\n",
    "    for j in range(3):\n",
    "        if i == j:\n",
    "            break\n",
    "        Z[i][0] -= L[i][j] * Z[j][0]\n",
    "print(Z)\n",
    "\n",
    "# UB = Z\n",
    "B = createMatriz(3,1,0)\n",
    "for i in range(2,-1,-1):\n",
    "    B[i][0] = Z[i][0]\n",
    "    for j in range(2,-1,-1):\n",
    "        if i == j:\n",
    "            break\n",
    "        B[i][0] -= U[i][j] * B[j][0]\n",
    "    B[i][0] = B[i][0]/U[i][i]\n",
    "print(B)"
   ]
  },
  {
   "cell_type": "code",
   "execution_count": 0,
   "metadata": {
    "collapsed": false
   },
   "outputs": [
   ],
   "source": [
   ]
  }
 ],
 "metadata": {
  "kernelspec": {
   "display_name": "Python 3 (Anaconda 5)",
   "language": "python",
   "name": "anaconda5"
  },
  "language_info": {
   "codemirror_mode": {
    "name": "ipython",
    "version": 3
   },
   "file_extension": ".py",
   "mimetype": "text/x-python",
   "name": "python",
   "nbconvert_exporter": "python",
   "pygments_lexer": "ipython3",
   "version": "3.6.5"
  }
 },
 "nbformat": 4,
 "nbformat_minor": 0
}