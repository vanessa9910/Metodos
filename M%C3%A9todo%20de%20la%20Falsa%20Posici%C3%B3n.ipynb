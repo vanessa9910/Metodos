{
 "cells": [
  {
   "cell_type": "code",
   "execution_count": 46,
   "metadata": {
    "collapsed": false,
    "scrolled": true
   },
   "outputs": [
    {
     "name": "stdout",
     "output_type": "stream",
     "text": [
      "La raiz es 3.162272\n",
      "Con iteraciones 2\n"
     ]
    }
   ],
   "source": [
    "import math\n",
    "import numpy as np\n",
    "import matplotlib.pyplot as plt\n",
    "\n",
    "def fun(c):\n",
    "    return (c**2-10)\n",
    "\n",
    "c0 = 3\n",
    "c1 = 3.2\n",
    "maxIter =100\n",
    "itera = 0\n",
    "\n",
    "for i in range(maxIter):\n",
    "    itera += 1\n",
    "    fc0 = fun(c0)\n",
    "    fc1 = fun(c1)\n",
    "    if fc0 * fc1 > 0:\n",
    "        print(\"No hay raiz en este rango\")\n",
    "        break\n",
    "    cr=(c0*fc1-c1*fc0)/(fc1-fc0);\n",
    "    fcr = fun(cr)\n",
    "    if fc0 * fcr < 0:\n",
    "        c1 = cr\n",
    "    else:\n",
    "        c0 = cr\n",
    "    if abs(fcr) < .005:\n",
    "        break\n",
    "        \n",
    "print(\"La raiz es %.6f\"%c0)\n",
    "print(\"Con iteraciones %i\"%itera)"
   ]
  }
 ],
 "metadata": {
  "kernelspec": {
   "display_name": "Python 3 (Anaconda 5)",
   "language": "python",
   "name": "anaconda5"
  },
  "language_info": {
   "codemirror_mode": {
    "name": "ipython",
    "version": 3
   },
   "file_extension": ".py",
   "mimetype": "text/x-python",
   "name": "python",
   "nbconvert_exporter": "python",
   "pygments_lexer": "ipython3",
   "version": "3.6.5"
  }
 },
 "nbformat": 4,
 "nbformat_minor": 0
}