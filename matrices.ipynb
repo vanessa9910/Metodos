{
 "cells": [
  {
   "cell_type": "code",
   "execution_count": 1,
   "metadata": {
    "collapsed": false,
    "scrolled": true
   },
   "outputs": [
    {
     "name": "stdout",
     "output_type": "stream",
     "text": [
      "[[2, 2], [2, 2]]\n"
     ]
    }
   ],
   "source": [
    "def suma(A,B):\n",
    "    if len(A) != len(B):\n",
    "        print(\"No se puede realizar la suma. El número de renglones no es igual\")\n",
    "        return\n",
    "    if len(A[0]) != len(B[0]):\n",
    "        print(\"No se puede realizar la suma. El número de columnas no es igual\")\n",
    "        return\n",
    "    C = A\n",
    "    for i in range(len(A)):\n",
    "        for j in range(len(A[0])):\n",
    "            C[i][j] = A[i][j] + B[i][j]\n",
    "    return C\n",
    "\n",
    "A = [[1,1],[1,1]]\n",
    "print(suma(A,A))"
   ]
  },
  {
   "cell_type": "code",
   "execution_count": 2,
   "metadata": {
    "collapsed": false
   },
   "outputs": [
    {
     "name": "stdout",
     "output_type": "stream",
     "text": [
      "[[-1, -1], [-4, -1]]\n"
     ]
    }
   ],
   "source": [
    "def resta(A,B):\n",
    "    if len(A) != len(B):\n",
    "        print(\"No se puede realizar la suma. El número de renglones no es igual\")\n",
    "        return\n",
    "    if len(A[0]) != len(B[0]):\n",
    "        print(\"No se puede realizar la suma. El número de columnas no es igual\")\n",
    "        return\n",
    "    C = A\n",
    "    for i in range(len(A)):\n",
    "        for j in range(len(A[0])):\n",
    "            C[i][j] = A[i][j] - B[i][j]\n",
    "    return C\n",
    "\n",
    "A = [[1,1],[1,1]]\n",
    "B = [[2,2],[5,2]]\n",
    "print(resta(A,B))"
   ]
  },
  {
   "cell_type": "code",
   "execution_count": 0,
   "metadata": {
    "collapsed": false
   },
   "outputs": [
   ],
   "source": [
   ]
  }
 ],
 "metadata": {
  "kernelspec": {
   "display_name": "Python 3 (Anaconda 5)",
   "language": "python",
   "name": "anaconda5"
  },
  "language_info": {
   "codemirror_mode": {
    "name": "ipython",
    "version": 3
   },
   "file_extension": ".py",
   "mimetype": "text/x-python",
   "name": "python",
   "nbconvert_exporter": "python",
   "pygments_lexer": "ipython3",
   "version": "3.6.5"
  }
 },
 "nbformat": 4,
 "nbformat_minor": 0
}